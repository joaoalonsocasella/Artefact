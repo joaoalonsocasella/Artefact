{
  "nbformat": 4,
  "nbformat_minor": 0,
  "metadata": {
    "colab": {
      "provenance": []
    },
    "kernelspec": {
      "name": "python3",
      "display_name": "Python 3"
    },
    "language_info": {
      "name": "python"
    }
  },
  "cells": [
    {
      "cell_type": "markdown",
      "source": [
        "#__Case Tecnico - Data Scientist__"
      ],
      "metadata": {
        "id": "CfIQMbuqht96"
      }
    },
    {
      "cell_type": "markdown",
      "source": [
        "##__Instruções__"
      ],
      "metadata": {
        "id": "CYz5OeQbhyt3"
      }
    },
    {
      "cell_type": "markdown",
      "source": [
        "Certifique-se de preenchê-lo e enviá-lo dentro do prazo mencionado em nosso e-mail.\n",
        "Este teste foi elaborado para avaliar suas habilidades técnicas e seu pensamento crítico. Responda da forma mais organizada e completa possível. Depois de concluir o teste, preencha o Formulário do Google fornecido no e-mail e anexe o arquivo .ipynb com as respostas ao formulário.\n",
        "\n",
        "__Complete as perguntas neste Jupyter Notebook (arquivo .ipynb) e salve seu trabalho em uma nova versão do arquivo__. Quando terminar, envie-nos o notebook atualizado para análise, anexando-o ao Google Forms enviado em nosso e-mail. Se você usar imagens para resolver qualquer uma das perguntas abaixo, não se esqueça de anexá-las ao Google Forms.\n",
        "\n",
        "Para otimizar a visualização da estrutura do arquivo, é recomendável usar o [Google Colab](https://colab.research.google.com/). <br>.\n",
        "\n",
        "Por fim, __não se esqueça de nomear seu arquivo .ipynb__ com as respostas seguindo o exemplo abaixo:<br>\n",
        "Meu_Nome_Posição_Nivel_Senioridade <br>\n",
        "Exemplo: CaioGarvil_Data Engineer_Junior.ipynb\n"
      ],
      "metadata": {
        "id": "_BHj4L6Wh3UP"
      }
    },
    {
      "cell_type": "markdown",
      "source": [
        "##__Problema 1: Problema do stockout__"
      ],
      "metadata": {
        "id": "WGRLax8eitGK"
      }
    },
    {
      "cell_type": "markdown",
      "source": [
        "Uma rede de supermercados sofre com a constante falta de alguns produtos, mais especificamente cerveja. Quando os funcionários notam a falta dos produtos em estoque, eles fazem um pedido à matriz para que enviem mais unidades do centro de distribuição para a loja, mas os caminhões podem demorar até 3 dias para chegar a seu destino, fazendo com que a loja perca várias vendas. O cliente pede que um modelo preditivo seja construído, a fim de que cada loja possa saber, com antecedência, quando haverá uma falta de estoque. Eles mencionam ter uma tabela de histórico de ocorrência de stockout por loja, produto e dia, além de algumas outras informações que podem ser úteis (mas não especificam quais)."
      ],
      "metadata": {
        "id": "pW9K02WEi5LB"
      }
    },
    {
      "cell_type": "markdown",
      "source": [
        "### A.  Que tipos de dados você perguntaria se eles têm e qual granularidade você pediria? Ou que tipo de informações externas você buscaria? Explique o racional por trás de suas escolhas."
      ],
      "metadata": {
        "id": "Z7x_mXNwjDKY"
      }
    },
    {
      "cell_type": "markdown",
      "source": [
        "ESCREVA SUA RESPOSTA AQUI"
      ],
      "metadata": {
        "id": "wrqJOhrPjKC6"
      }
    },
    {
      "cell_type": "markdown",
      "source": [
        "### B. Escolha um dos problemas abaixo, relacionados a dados de séries temporais, e sugira uma implementação para resolver ou mitigar o problema:\n",
        "\n",
        "    *   Algumas das features (por exemplo, vendas_diarias) tem muitos outliers\n",
        "    *   Algumas lojas e produtos têm pouca quantidade de dados\n",
        "    *   Série temporal de informação de stockout são muito esparsas (as séries  são compostas majoritariamente por valores nulos, com alguns valores não-nulos espalhados de maneira irregular)\n",
        "\n",
        "\n",
        "\n"
      ],
      "metadata": {
        "id": "2aPSe48ejLc3"
      }
    },
    {
      "cell_type": "markdown",
      "source": [
        "ESCREVA SUA RESPOSTA AQUI"
      ],
      "metadata": {
        "id": "7qBkXyAdjkm8"
      }
    },
    {
      "cell_type": "markdown",
      "source": [
        "##__Problema 2: Problema de turnover__"
      ],
      "metadata": {
        "id": "4rXVrlf4jo3g"
      }
    },
    {
      "cell_type": "markdown",
      "source": [
        "Você trabalha em uma empresa de produtos alimentícios que sofre com grande taxa de turnover (ou seja, funcionários que deixam a empresa). O departamento de RH está buscando entender o que leva seus funcionários a deixarem a empresa ou não.\n",
        "\n",
        "Assuma que a empresa possui um dataset com as seguintes colunas e aproximadamente 5 anos de dados:\n",
        "\n",
        "    *  employee_id: Identificação única do funcionário.\n",
        "\n",
        "    *  manager_id: ID do gerente do funcionário\n",
        "\n",
        "    *  employee_name: Nome do funcionário\n",
        "\n",
        "    *  age: Idade do funcionário\n",
        "\n",
        "    *  gender: Gênero do funcionário\n",
        "\n",
        "    *  food_preferences: Preferências alimentares registradas para eventos corporativos\n",
        "\n",
        "    *  social_media_handle: Identificadores de redes sociais utilizadas pelo funcionário\n",
        "\n",
        "    *  job_level: Nível do cargo ocupado (de 1 a 5)\n",
        "\n",
        "    *  monthly_income: Salário mensal.\n",
        "\n",
        "    *  years_at_company: Anos trabalhados na empresa.\n",
        "\n",
        "    *  distance_from_home: Distância da casa até o trabalho (em km)\n",
        "\n",
        "    *  over_time: Se o funcionário faz horas extras (Sim ou Não).\n",
        "\n",
        "    *  company_car_assigned: Informação sobre se o funcionário tem um carro da empresa\n",
        "\n",
        "    *  turnover: 1 se o funcionário deixou a empresa, 0 se não deixou"
      ],
      "metadata": {
        "id": "yaMR-s4Zjugb"
      }
    },
    {
      "cell_type": "markdown",
      "source": [
        "### A. Desenvolva uma estratégia para prever a variável turnover. Quais etapas esse projeto deveria ter, desde a coleta de dados até a disponibilização dos resultados? (Descreva bem as etapas e as atividades em cada uma delas)"
      ],
      "metadata": {
        "id": "dmdeFdzQkSN1"
      }
    },
    {
      "cell_type": "markdown",
      "source": [
        "ESCREVA SUA RESPOSTA AQUI"
      ],
      "metadata": {
        "id": "7smOSE_YkWDs"
      }
    },
    {
      "cell_type": "markdown",
      "source": [
        "### B. Que tipo de algoritmo você aplicaria/testaria e por quê?"
      ],
      "metadata": {
        "id": "Etj8oOaZkYiu"
      }
    },
    {
      "cell_type": "markdown",
      "source": [
        "ESCREVA SUA RESPOSTA AQUI"
      ],
      "metadata": {
        "id": "PdljXO6Okflp"
      }
    },
    {
      "cell_type": "markdown",
      "source": [
        "### C. Agora considere que, por questões burocráticas, o projeto teve que ser reduzido e você terá apenas metade do tempo para executá-lo. Que atividades você cortaria ou reduziria e por quê?"
      ],
      "metadata": {
        "id": "1XWAf6R9kgHU"
      }
    },
    {
      "cell_type": "markdown",
      "source": [
        "ESCREVA SUA RESPOSTA AQUI"
      ],
      "metadata": {
        "id": "YtKhmtekknWZ"
      }
    },
    {
      "cell_type": "markdown",
      "source": [
        "##__Problema 3: Análise de regressão__"
      ],
      "metadata": {
        "id": "WQBYXkKakruE"
      }
    },
    {
      "cell_type": "markdown",
      "source": [
        "Uma empresa da indústria farmacêutica tem uma nova política interna para não discriminar significativamente os salários de acordo com a localização de seus funcionários. Eles coletaram os dados de todos os funcionários e querem que você verifique se eles já estão seguindo a nova política. Antes de responder às perguntas abaixo, dê uma olhada no conjunto de dados em anexo: (1stPhase-SelectiveProcess-Data Science-Data Base.csv)"
      ],
      "metadata": {
        "id": "6s-7cmV7kwsS"
      }
    },
    {
      "cell_type": "markdown",
      "source": [
        "### A.  Descreva como você pode usar os dados do supermercado para verificar se os funcionários de diferentes locais têm salários significativamente diferentes. (Inclua aqui como você tratará as variáveis antes de inseri-las no modelo e todas as etapas que pretende seguir aprofundando o máximo possível em sua explicação)"
      ],
      "metadata": {
        "id": "pQQAwBwCk11t"
      }
    },
    {
      "cell_type": "markdown",
      "source": [
        "ESCREVA SUA RESPOSTA AQUI"
      ],
      "metadata": {
        "id": "XtJzRlTslAFX"
      }
    },
    {
      "cell_type": "markdown",
      "source": [
        "### B. Imagine que, depois de olhar os dados, você tenha uma reunião com o cliente em que poderá mostrar alguns gráficos e fazer comentários e/ou perguntas para ele sobre os dados. Quais visuais você levaria e quais comentários/perguntas você faria?"
      ],
      "metadata": {
        "id": "7NHrM1e2lA9R"
      }
    },
    {
      "cell_type": "markdown",
      "source": [
        "ESCREVA SUA RESPOSTA AQUI"
      ],
      "metadata": {
        "id": "yRC2M9EMlG6J"
      }
    },
    {
      "cell_type": "markdown",
      "source": [
        "### C.  Implemente a sua abordagem da melhor forma possível em um código  Python, comentando as etapas do seu código. Não esqueça de trazer uma conclusão final."
      ],
      "metadata": {
        "id": "UBRorKA2lHgj"
      }
    },
    {
      "cell_type": "code",
      "source": [
        "# ESCREVA SEU CODIGO AQUI"
      ],
      "metadata": {
        "id": "zRe5M58UlPOL"
      },
      "execution_count": null,
      "outputs": []
    }
  ]
}